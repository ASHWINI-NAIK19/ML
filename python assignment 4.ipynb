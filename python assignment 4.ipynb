{
 "cells": [
  {
   "cell_type": "markdown",
   "metadata": {},
   "source": [
    "1.1 Write a Python Program(with class concepts) to find the area of the triangle using the below formula.\n",
    "area = (s*(s-a)*(s-b)*(s-c)) ** 0.5\n",
    "Function to take the length of the sides of triangle from user should be defined in the parent class and function to calculate the area should be defined in subclass."
   ]
  },
  {
   "cell_type": "code",
   "execution_count": 39,
   "metadata": {},
   "outputs": [
    {
     "name": "stdout",
     "output_type": "stream",
     "text": [
      "Enter first side of triangle:3\n",
      "Enter second side of triangle:4\n",
      "Enter third side of triangle:5\n",
      "Area of triangle is: 6.0\n"
     ]
    }
   ],
   "source": [
    "class Sides:\n",
    "    def __init__(self):\n",
    "        pass\n",
    "     \n",
    "    def inSides(self):\n",
    "        self.a=int(input(\"Enter first side of triangle:\"))\n",
    "        self.b=int(input(\"Enter second side of triangle:\"))\n",
    "        self.c=int(input(\"Enter third side of triangle:\"))\n",
    "        \n",
    "class Area(Sides):\n",
    "    def __init__(self):\n",
    "        Sides.__init__(self)\n",
    "        \n",
    "    def get_area(self):\n",
    "        s=(self.a+self.b+self.c)/2\n",
    "        return (s*(s-self.a)*(s-self.b)*(s-self.c))**0.5\n",
    "    \n",
    "t=Area()\n",
    "t.inSides()\n",
    "print(\"Area of triangle is:\",t.get_area())"
   ]
  },
  {
   "cell_type": "markdown",
   "metadata": {},
   "source": [
    "1.2 Write python function filter_long_words() that takes list of words and integer n and returns list of words that are longer than n."
   ]
  },
  {
   "cell_type": "code",
   "execution_count": 40,
   "metadata": {},
   "outputs": [],
   "source": [
    "def filter_long_words(m,n):\n",
    "    output=[]\n",
    "    for i in m:\n",
    "        if(len(i)>n):\n",
    "          output.append(i)\n",
    "    print(output)"
   ]
  },
  {
   "cell_type": "code",
   "execution_count": 41,
   "metadata": {},
   "outputs": [
    {
     "name": "stdout",
     "output_type": "stream",
     "text": [
      "['hello', 'welcome', 'python']\n"
     ]
    }
   ],
   "source": [
    "m=['hello','cd','welcome','z','exit','python']\n",
    "n=4\n",
    "filter_long_words(m,n)"
   ]
  },
  {
   "cell_type": "markdown",
   "metadata": {},
   "source": [
    "2.1 Write a Python program using function concept that maps list of words into a list of integers\n",
    "representing the lengths of the corresponding words.\n",
    "Hint: If a list [ ab,cde,erty] is passed on to the python function output should come as [2,3,4]\n",
    "Here 2,3 and 4 are the lengths of the words in the list."
   ]
  },
  {
   "cell_type": "code",
   "execution_count": 42,
   "metadata": {},
   "outputs": [
    {
     "data": {
      "text/plain": [
       "[2, 3, 4]"
      ]
     },
     "execution_count": 42,
     "metadata": {},
     "output_type": "execute_result"
    }
   ],
   "source": [
    "def countLen(m):\n",
    "  return len(m)\n",
    "n=['ab','cde','erty']\n",
    "list(map(countLen,n))"
   ]
  },
  {
   "cell_type": "markdown",
   "metadata": {},
   "source": [
    "2.2 Write a python function which takes a character (string of length 1) and returns True if it is a vowel, False otherwise."
   ]
  },
  {
   "cell_type": "code",
   "execution_count": 43,
   "metadata": {},
   "outputs": [],
   "source": [
    "def chkVowel(x):\n",
    "    if x=='a' or x=='e' or x=='i' or x=='o' or x=='u':\n",
    "     return True\n",
    "    else:\n",
    "     return False"
   ]
  },
  {
   "cell_type": "code",
   "execution_count": 44,
   "metadata": {},
   "outputs": [
    {
     "data": {
      "text/plain": [
       "True"
      ]
     },
     "execution_count": 44,
     "metadata": {},
     "output_type": "execute_result"
    }
   ],
   "source": [
    "chkVowel('i')"
   ]
  },
  {
   "cell_type": "code",
   "execution_count": 45,
   "metadata": {},
   "outputs": [
    {
     "data": {
      "text/plain": [
       "False"
      ]
     },
     "execution_count": 45,
     "metadata": {},
     "output_type": "execute_result"
    }
   ],
   "source": [
    "chkVowel('y')"
   ]
  }
 ],
 "metadata": {
  "kernelspec": {
   "display_name": "Python 3",
   "language": "python",
   "name": "python3"
  },
  "language_info": {
   "codemirror_mode": {
    "name": "ipython",
    "version": 3
   },
   "file_extension": ".py",
   "mimetype": "text/x-python",
   "name": "python",
   "nbconvert_exporter": "python",
   "pygments_lexer": "ipython3",
   "version": "3.7.6"
  }
 },
 "nbformat": 4,
 "nbformat_minor": 4
}
